{
 "cells": [
  {
   "cell_type": "markdown",
   "metadata": {},
   "source": [
    "# Coronavirus Global Cases Vizualisations\n",
    "----"
   ]
  },
  {
   "cell_type": "markdown",
   "metadata": {},
   "source": [
    "### Importing Libraries"
   ]
  },
  {
   "cell_type": "code",
   "execution_count": 1,
   "metadata": {
    "ExecuteTime": {
     "end_time": "2020-08-01T12:15:31.384059Z",
     "start_time": "2020-08-01T12:15:31.361067Z"
    }
   },
   "outputs": [
    {
     "name": "stdout",
     "output_type": "stream",
     "text": [
      "Modules are imported.\n"
     ]
    }
   ],
   "source": [
    "import pandas as pd #Dataframe manipulation library\n",
    "import numpy as np #Library to handle data in a vectorized manner\n",
    "import matplotlib.pyplot as plt #Matplotlib and associated plotting modules\n",
    "import matplotlib.colors as mcolors\n",
    "import matplotlib as mpl\n",
    "from matplotlib import style\n",
    "import math #Math functions\n",
    "import requests #library to handle requests\n",
    "import os\n",
    "import random\n",
    "import time\n",
    "import datetime\n",
    "import warnings\n",
    "from sklearn.model_selection import RandomizedSearchCV, train_test_split\n",
    "from sklearn.svm import SVR\n",
    "from sklearn.metrics import mean_squared_error, mean_absolute_error\n",
    "warnings.filterwarnings(\"ignore\")\n",
    "print('Modules are imported.')"
   ]
  },
  {
   "cell_type": "markdown",
   "metadata": {},
   "source": [
    "### Importing the Dataset"
   ]
  },
  {
   "cell_type": "code",
   "execution_count": 2,
   "metadata": {},
   "outputs": [],
   "source": [
    "#Importing daily time series summary tables, including confirmed, deaths and recovered. All data is read in from the daily case report.\n",
    "#Confirmed: Counts include confirmed and probable (where reported).\n",
    "#Deaths: Counts include confirmed and probable (where reported).\n",
    "#Recovered: Recovered cases are estimates based on local media reports, and state and local reporting when available, and therefore may be substantially lower than the true number. "
   ]
  },
  {
   "cell_type": "code",
   "execution_count": 3,
   "metadata": {
    "ExecuteTime": {
     "end_time": "2020-08-01T12:15:31.854909Z",
     "start_time": "2020-08-01T12:15:31.399054Z"
    }
   },
   "outputs": [],
   "source": [
    "confirmed_df = pd.read_csv('https://raw.githubusercontent.com/CSSEGISandData/COVID-19/master/csse_covid_19_data/csse_covid_19_time_series/time_series_covid19_confirmed_global.csv')\n",
    "deaths_df = pd.read_csv('https://raw.githubusercontent.com/CSSEGISandData/COVID-19/master/csse_covid_19_data/csse_covid_19_time_series/time_series_covid19_deaths_global.csv')\n",
    "recoveries_df = pd.read_csv('https://raw.githubusercontent.com/CSSEGISandData/COVID-19/master/csse_covid_19_data/csse_covid_19_time_series/time_series_covid19_recovered_global.csv')"
   ]
  },
  {
   "cell_type": "code",
   "execution_count": 4,
   "metadata": {
    "ExecuteTime": {
     "end_time": "2020-08-01T12:15:31.882899Z",
     "start_time": "2020-08-01T12:15:31.856908Z"
    },
    "scrolled": true
   },
   "outputs": [
    {
     "data": {
      "text/html": [
       "<div>\n",
       "<style scoped>\n",
       "    .dataframe tbody tr th:only-of-type {\n",
       "        vertical-align: middle;\n",
       "    }\n",
       "\n",
       "    .dataframe tbody tr th {\n",
       "        vertical-align: top;\n",
       "    }\n",
       "\n",
       "    .dataframe thead th {\n",
       "        text-align: right;\n",
       "    }\n",
       "</style>\n",
       "<table border=\"1\" class=\"dataframe\">\n",
       "  <thead>\n",
       "    <tr style=\"text-align: right;\">\n",
       "      <th></th>\n",
       "      <th>Province/State</th>\n",
       "      <th>Country/Region</th>\n",
       "      <th>Lat</th>\n",
       "      <th>Long</th>\n",
       "      <th>1/22/20</th>\n",
       "      <th>1/23/20</th>\n",
       "      <th>1/24/20</th>\n",
       "      <th>1/25/20</th>\n",
       "      <th>1/26/20</th>\n",
       "      <th>1/27/20</th>\n",
       "      <th>...</th>\n",
       "      <th>12/15/20</th>\n",
       "      <th>12/16/20</th>\n",
       "      <th>12/17/20</th>\n",
       "      <th>12/18/20</th>\n",
       "      <th>12/19/20</th>\n",
       "      <th>12/20/20</th>\n",
       "      <th>12/21/20</th>\n",
       "      <th>12/22/20</th>\n",
       "      <th>12/23/20</th>\n",
       "      <th>12/24/20</th>\n",
       "    </tr>\n",
       "  </thead>\n",
       "  <tbody>\n",
       "    <tr>\n",
       "      <th>0</th>\n",
       "      <td>NaN</td>\n",
       "      <td>Afghanistan</td>\n",
       "      <td>33.93911</td>\n",
       "      <td>67.709953</td>\n",
       "      <td>0</td>\n",
       "      <td>0</td>\n",
       "      <td>0</td>\n",
       "      <td>0</td>\n",
       "      <td>0</td>\n",
       "      <td>0</td>\n",
       "      <td>...</td>\n",
       "      <td>48952</td>\n",
       "      <td>49161</td>\n",
       "      <td>49378</td>\n",
       "      <td>49621</td>\n",
       "      <td>49681</td>\n",
       "      <td>49817</td>\n",
       "      <td>50013</td>\n",
       "      <td>50190</td>\n",
       "      <td>50433</td>\n",
       "      <td>50655</td>\n",
       "    </tr>\n",
       "    <tr>\n",
       "      <th>1</th>\n",
       "      <td>NaN</td>\n",
       "      <td>Albania</td>\n",
       "      <td>41.15330</td>\n",
       "      <td>20.168300</td>\n",
       "      <td>0</td>\n",
       "      <td>0</td>\n",
       "      <td>0</td>\n",
       "      <td>0</td>\n",
       "      <td>0</td>\n",
       "      <td>0</td>\n",
       "      <td>...</td>\n",
       "      <td>50000</td>\n",
       "      <td>50637</td>\n",
       "      <td>51424</td>\n",
       "      <td>52004</td>\n",
       "      <td>52542</td>\n",
       "      <td>53003</td>\n",
       "      <td>53425</td>\n",
       "      <td>53814</td>\n",
       "      <td>54317</td>\n",
       "      <td>54827</td>\n",
       "    </tr>\n",
       "    <tr>\n",
       "      <th>2</th>\n",
       "      <td>NaN</td>\n",
       "      <td>Algeria</td>\n",
       "      <td>28.03390</td>\n",
       "      <td>1.659600</td>\n",
       "      <td>0</td>\n",
       "      <td>0</td>\n",
       "      <td>0</td>\n",
       "      <td>0</td>\n",
       "      <td>0</td>\n",
       "      <td>0</td>\n",
       "      <td>...</td>\n",
       "      <td>93065</td>\n",
       "      <td>93507</td>\n",
       "      <td>93933</td>\n",
       "      <td>94371</td>\n",
       "      <td>94781</td>\n",
       "      <td>95203</td>\n",
       "      <td>95659</td>\n",
       "      <td>96069</td>\n",
       "      <td>96549</td>\n",
       "      <td>97007</td>\n",
       "    </tr>\n",
       "    <tr>\n",
       "      <th>3</th>\n",
       "      <td>NaN</td>\n",
       "      <td>Andorra</td>\n",
       "      <td>42.50630</td>\n",
       "      <td>1.521800</td>\n",
       "      <td>0</td>\n",
       "      <td>0</td>\n",
       "      <td>0</td>\n",
       "      <td>0</td>\n",
       "      <td>0</td>\n",
       "      <td>0</td>\n",
       "      <td>...</td>\n",
       "      <td>7382</td>\n",
       "      <td>7446</td>\n",
       "      <td>7466</td>\n",
       "      <td>7519</td>\n",
       "      <td>7560</td>\n",
       "      <td>7577</td>\n",
       "      <td>7602</td>\n",
       "      <td>7633</td>\n",
       "      <td>7669</td>\n",
       "      <td>7699</td>\n",
       "    </tr>\n",
       "    <tr>\n",
       "      <th>4</th>\n",
       "      <td>NaN</td>\n",
       "      <td>Angola</td>\n",
       "      <td>-11.20270</td>\n",
       "      <td>17.873900</td>\n",
       "      <td>0</td>\n",
       "      <td>0</td>\n",
       "      <td>0</td>\n",
       "      <td>0</td>\n",
       "      <td>0</td>\n",
       "      <td>0</td>\n",
       "      <td>...</td>\n",
       "      <td>16362</td>\n",
       "      <td>16407</td>\n",
       "      <td>16484</td>\n",
       "      <td>16562</td>\n",
       "      <td>16626</td>\n",
       "      <td>16644</td>\n",
       "      <td>16686</td>\n",
       "      <td>16802</td>\n",
       "      <td>16931</td>\n",
       "      <td>17029</td>\n",
       "    </tr>\n",
       "  </tbody>\n",
       "</table>\n",
       "<p>5 rows × 342 columns</p>\n",
       "</div>"
      ],
      "text/plain": [
       "  Province/State Country/Region       Lat       Long  1/22/20  1/23/20  \\\n",
       "0            NaN    Afghanistan  33.93911  67.709953        0        0   \n",
       "1            NaN        Albania  41.15330  20.168300        0        0   \n",
       "2            NaN        Algeria  28.03390   1.659600        0        0   \n",
       "3            NaN        Andorra  42.50630   1.521800        0        0   \n",
       "4            NaN         Angola -11.20270  17.873900        0        0   \n",
       "\n",
       "   1/24/20  1/25/20  1/26/20  1/27/20  ...  12/15/20  12/16/20  12/17/20  \\\n",
       "0        0        0        0        0  ...     48952     49161     49378   \n",
       "1        0        0        0        0  ...     50000     50637     51424   \n",
       "2        0        0        0        0  ...     93065     93507     93933   \n",
       "3        0        0        0        0  ...      7382      7446      7466   \n",
       "4        0        0        0        0  ...     16362     16407     16484   \n",
       "\n",
       "   12/18/20  12/19/20  12/20/20  12/21/20  12/22/20  12/23/20  12/24/20  \n",
       "0     49621     49681     49817     50013     50190     50433     50655  \n",
       "1     52004     52542     53003     53425     53814     54317     54827  \n",
       "2     94371     94781     95203     95659     96069     96549     97007  \n",
       "3      7519      7560      7577      7602      7633      7669      7699  \n",
       "4     16562     16626     16644     16686     16802     16931     17029  \n",
       "\n",
       "[5 rows x 342 columns]"
      ]
     },
     "execution_count": 4,
     "metadata": {},
     "output_type": "execute_result"
    }
   ],
   "source": [
    "confirmed_df.head()"
   ]
  },
  {
   "cell_type": "markdown",
   "metadata": {},
   "source": [
    "#### Check the shape of the dataframes"
   ]
  },
  {
   "cell_type": "code",
   "execution_count": 5,
   "metadata": {},
   "outputs": [
    {
     "name": "stdout",
     "output_type": "stream",
     "text": [
      "(271, 342)\n",
      "(271, 342)\n",
      "(256, 342)\n"
     ]
    }
   ],
   "source": [
    "print (confirmed_df.shape)\n",
    "print (deaths_df.shape)\n",
    "print (recoveries_df.shape)"
   ]
  },
  {
   "cell_type": "code",
   "execution_count": 6,
   "metadata": {},
   "outputs": [
    {
     "data": {
      "text/html": [
       "<div>\n",
       "<style scoped>\n",
       "    .dataframe tbody tr th:only-of-type {\n",
       "        vertical-align: middle;\n",
       "    }\n",
       "\n",
       "    .dataframe tbody tr th {\n",
       "        vertical-align: top;\n",
       "    }\n",
       "\n",
       "    .dataframe thead th {\n",
       "        text-align: right;\n",
       "    }\n",
       "</style>\n",
       "<table border=\"1\" class=\"dataframe\">\n",
       "  <thead>\n",
       "    <tr style=\"text-align: right;\">\n",
       "      <th></th>\n",
       "      <th>Lat</th>\n",
       "      <th>Long</th>\n",
       "      <th>1/22/20</th>\n",
       "      <th>1/23/20</th>\n",
       "      <th>1/24/20</th>\n",
       "      <th>1/25/20</th>\n",
       "      <th>1/26/20</th>\n",
       "      <th>1/27/20</th>\n",
       "      <th>1/28/20</th>\n",
       "      <th>1/29/20</th>\n",
       "      <th>...</th>\n",
       "      <th>12/15/20</th>\n",
       "      <th>12/16/20</th>\n",
       "      <th>12/17/20</th>\n",
       "      <th>12/18/20</th>\n",
       "      <th>12/19/20</th>\n",
       "      <th>12/20/20</th>\n",
       "      <th>12/21/20</th>\n",
       "      <th>12/22/20</th>\n",
       "      <th>12/23/20</th>\n",
       "      <th>12/24/20</th>\n",
       "    </tr>\n",
       "    <tr>\n",
       "      <th>Country/Region</th>\n",
       "      <th></th>\n",
       "      <th></th>\n",
       "      <th></th>\n",
       "      <th></th>\n",
       "      <th></th>\n",
       "      <th></th>\n",
       "      <th></th>\n",
       "      <th></th>\n",
       "      <th></th>\n",
       "      <th></th>\n",
       "      <th></th>\n",
       "      <th></th>\n",
       "      <th></th>\n",
       "      <th></th>\n",
       "      <th></th>\n",
       "      <th></th>\n",
       "      <th></th>\n",
       "      <th></th>\n",
       "      <th></th>\n",
       "      <th></th>\n",
       "      <th></th>\n",
       "    </tr>\n",
       "  </thead>\n",
       "  <tbody>\n",
       "    <tr>\n",
       "      <th>Afghanistan</th>\n",
       "      <td>33.93911</td>\n",
       "      <td>67.709953</td>\n",
       "      <td>0</td>\n",
       "      <td>0</td>\n",
       "      <td>0</td>\n",
       "      <td>0</td>\n",
       "      <td>0</td>\n",
       "      <td>0</td>\n",
       "      <td>0</td>\n",
       "      <td>0</td>\n",
       "      <td>...</td>\n",
       "      <td>48952</td>\n",
       "      <td>49161</td>\n",
       "      <td>49378</td>\n",
       "      <td>49621</td>\n",
       "      <td>49681</td>\n",
       "      <td>49817</td>\n",
       "      <td>50013</td>\n",
       "      <td>50190</td>\n",
       "      <td>50433</td>\n",
       "      <td>50655</td>\n",
       "    </tr>\n",
       "    <tr>\n",
       "      <th>Albania</th>\n",
       "      <td>41.15330</td>\n",
       "      <td>20.168300</td>\n",
       "      <td>0</td>\n",
       "      <td>0</td>\n",
       "      <td>0</td>\n",
       "      <td>0</td>\n",
       "      <td>0</td>\n",
       "      <td>0</td>\n",
       "      <td>0</td>\n",
       "      <td>0</td>\n",
       "      <td>...</td>\n",
       "      <td>50000</td>\n",
       "      <td>50637</td>\n",
       "      <td>51424</td>\n",
       "      <td>52004</td>\n",
       "      <td>52542</td>\n",
       "      <td>53003</td>\n",
       "      <td>53425</td>\n",
       "      <td>53814</td>\n",
       "      <td>54317</td>\n",
       "      <td>54827</td>\n",
       "    </tr>\n",
       "    <tr>\n",
       "      <th>Algeria</th>\n",
       "      <td>28.03390</td>\n",
       "      <td>1.659600</td>\n",
       "      <td>0</td>\n",
       "      <td>0</td>\n",
       "      <td>0</td>\n",
       "      <td>0</td>\n",
       "      <td>0</td>\n",
       "      <td>0</td>\n",
       "      <td>0</td>\n",
       "      <td>0</td>\n",
       "      <td>...</td>\n",
       "      <td>93065</td>\n",
       "      <td>93507</td>\n",
       "      <td>93933</td>\n",
       "      <td>94371</td>\n",
       "      <td>94781</td>\n",
       "      <td>95203</td>\n",
       "      <td>95659</td>\n",
       "      <td>96069</td>\n",
       "      <td>96549</td>\n",
       "      <td>97007</td>\n",
       "    </tr>\n",
       "    <tr>\n",
       "      <th>Andorra</th>\n",
       "      <td>42.50630</td>\n",
       "      <td>1.521800</td>\n",
       "      <td>0</td>\n",
       "      <td>0</td>\n",
       "      <td>0</td>\n",
       "      <td>0</td>\n",
       "      <td>0</td>\n",
       "      <td>0</td>\n",
       "      <td>0</td>\n",
       "      <td>0</td>\n",
       "      <td>...</td>\n",
       "      <td>7382</td>\n",
       "      <td>7446</td>\n",
       "      <td>7466</td>\n",
       "      <td>7519</td>\n",
       "      <td>7560</td>\n",
       "      <td>7577</td>\n",
       "      <td>7602</td>\n",
       "      <td>7633</td>\n",
       "      <td>7669</td>\n",
       "      <td>7699</td>\n",
       "    </tr>\n",
       "    <tr>\n",
       "      <th>Angola</th>\n",
       "      <td>-11.20270</td>\n",
       "      <td>17.873900</td>\n",
       "      <td>0</td>\n",
       "      <td>0</td>\n",
       "      <td>0</td>\n",
       "      <td>0</td>\n",
       "      <td>0</td>\n",
       "      <td>0</td>\n",
       "      <td>0</td>\n",
       "      <td>0</td>\n",
       "      <td>...</td>\n",
       "      <td>16362</td>\n",
       "      <td>16407</td>\n",
       "      <td>16484</td>\n",
       "      <td>16562</td>\n",
       "      <td>16626</td>\n",
       "      <td>16644</td>\n",
       "      <td>16686</td>\n",
       "      <td>16802</td>\n",
       "      <td>16931</td>\n",
       "      <td>17029</td>\n",
       "    </tr>\n",
       "  </tbody>\n",
       "</table>\n",
       "<p>5 rows × 340 columns</p>\n",
       "</div>"
      ],
      "text/plain": [
       "                     Lat       Long  1/22/20  1/23/20  1/24/20  1/25/20  \\\n",
       "Country/Region                                                            \n",
       "Afghanistan     33.93911  67.709953        0        0        0        0   \n",
       "Albania         41.15330  20.168300        0        0        0        0   \n",
       "Algeria         28.03390   1.659600        0        0        0        0   \n",
       "Andorra         42.50630   1.521800        0        0        0        0   \n",
       "Angola         -11.20270  17.873900        0        0        0        0   \n",
       "\n",
       "                1/26/20  1/27/20  1/28/20  1/29/20  ...  12/15/20  12/16/20  \\\n",
       "Country/Region                                      ...                       \n",
       "Afghanistan           0        0        0        0  ...     48952     49161   \n",
       "Albania               0        0        0        0  ...     50000     50637   \n",
       "Algeria               0        0        0        0  ...     93065     93507   \n",
       "Andorra               0        0        0        0  ...      7382      7446   \n",
       "Angola                0        0        0        0  ...     16362     16407   \n",
       "\n",
       "                12/17/20  12/18/20  12/19/20  12/20/20  12/21/20  12/22/20  \\\n",
       "Country/Region                                                               \n",
       "Afghanistan        49378     49621     49681     49817     50013     50190   \n",
       "Albania            51424     52004     52542     53003     53425     53814   \n",
       "Algeria            93933     94371     94781     95203     95659     96069   \n",
       "Andorra             7466      7519      7560      7577      7602      7633   \n",
       "Angola             16484     16562     16626     16644     16686     16802   \n",
       "\n",
       "                12/23/20  12/24/20  \n",
       "Country/Region                      \n",
       "Afghanistan        50433     50655  \n",
       "Albania            54317     54827  \n",
       "Algeria            96549     97007  \n",
       "Andorra             7669      7699  \n",
       "Angola             16931     17029  \n",
       "\n",
       "[5 rows x 340 columns]"
      ]
     },
     "execution_count": 6,
     "metadata": {},
     "output_type": "execute_result"
    }
   ],
   "source": [
    "confirmed_df_aggregated = confirmed_df.groupby(\"Country/Region\").sum()\n",
    "deaths_df_aggregated = deaths_df.groupby(\"Country/Region\").sum()\n",
    "recoveries_df_aggregated = recoveries_df.groupby(\"Country/Region\").sum()\n",
    "confirmed_df_aggregated.head()"
   ]
  },
  {
   "cell_type": "code",
   "execution_count": 7,
   "metadata": {
    "ExecuteTime": {
     "end_time": "2020-08-01T12:15:31.894895Z",
     "start_time": "2020-08-01T12:15:31.884897Z"
    },
    "scrolled": true
   },
   "outputs": [],
   "source": [
    "### Replace NaN values by 0\n",
    "confirmed_df.fillna(0, inplace=True)\n",
    "deaths_df.fillna(0, inplace=True)\n",
    "recoveries_df.fillna(0, inplace=True)"
   ]
  },
  {
   "cell_type": "code",
   "execution_count": 8,
   "metadata": {
    "ExecuteTime": {
     "end_time": "2020-08-01T12:15:31.911889Z",
     "start_time": "2020-08-01T12:15:31.906891Z"
    }
   },
   "outputs": [],
   "source": [
    "###Index columns as DataFrame series\n",
    "cols = confirmed_df.keys()"
   ]
  },
  {
   "cell_type": "code",
   "execution_count": 9,
   "metadata": {
    "ExecuteTime": {
     "end_time": "2020-08-01T12:15:31.926884Z",
     "start_time": "2020-08-01T12:15:31.912888Z"
    }
   },
   "outputs": [],
   "source": [
    "###Get all the dates for the outbreak\n",
    "confirmed = confirmed_df.loc[:, cols[3]:cols[-1]]\n",
    "deaths = deaths_df.loc[:, cols[3]:cols[-1]]\n",
    "recoveries = recoveries_df.loc[:, cols[3]:cols[-1]]"
   ]
  },
  {
   "cell_type": "code",
   "execution_count": 10,
   "metadata": {
    "ExecuteTime": {
     "end_time": "2020-08-01T12:15:32.011858Z",
     "start_time": "2020-08-01T12:15:31.928883Z"
    }
   },
   "outputs": [],
   "source": [
    "dates = confirmed.keys()\n",
    "world_cases = []\n",
    "total_deaths = [] \n",
    "mortality_rate = []\n",
    "recovery_rate = [] \n",
    "total_recovered = [] \n",
    "active_cases = []\n",
    "\n",
    "for i in dates:\n",
    "    confirmed_sum = confirmed[i].sum()\n",
    "    death_sum = deaths[i].sum()\n",
    "    recovered_sum = recoveries[i].sum()\n",
    "    world_cases.append(confirmed_sum)\n",
    "    total_deaths.append(death_sum)\n",
    "    mortality_rate.append(death_sum/confirmed_sum)\n",
    "    recovery_rate.append(recovered_sum/confirmed_sum)\n",
    "    total_recovered.append(recovered_sum)\n",
    "    active_cases.append(confirmed_sum-(recovered_sum+death_sum))\n",
    "    active_cases_sum=(confirmed_sum-(recovered_sum+death_sum)).sum()"
   ]
  },
  {
   "cell_type": "code",
   "execution_count": 11,
   "metadata": {
    "ExecuteTime": {
     "end_time": "2020-08-01T12:15:32.017854Z",
     "start_time": "2020-08-01T12:15:32.013857Z"
    }
   },
   "outputs": [],
   "source": [
    "###Convert integer into datetime for better visualization\n",
    "start = '1/22/2020'\n",
    "start_date = datetime.datetime.strptime(start, '%m/%d/%Y')"
   ]
  },
  {
   "cell_type": "code",
   "execution_count": 12,
   "metadata": {
    "ExecuteTime": {
     "end_time": "2020-08-01T12:15:32.028851Z",
     "start_time": "2020-08-01T12:15:32.019854Z"
    }
   },
   "outputs": [],
   "source": [
    "days_since_1_22 = np.array([i for i in range(len(dates))]).reshape(-1, 1)\n",
    "world_cases = np.array(world_cases).reshape(-1, 1)\n",
    "total_deaths = np.array(total_deaths).reshape(-1, 1)\n",
    "total_recovered = np.array(total_recovered).reshape(-1, 1)\n",
    "active_cases = np.array(active_cases).reshape(-1, 1)"
   ]
  },
  {
   "cell_type": "code",
   "execution_count": 13,
   "metadata": {
    "ExecuteTime": {
     "end_time": "2020-08-01T12:15:32.036850Z",
     "start_time": "2020-08-01T12:15:32.029852Z"
    }
   },
   "outputs": [],
   "source": [
    "###Future forecast\n",
    "days_in_future = 30\n",
    "future_forcast = np.array([i for i in range(len(dates)+days_in_future)]).reshape(-1, 1)\n",
    "future_forcast_dates = []\n",
    "for i in range(len(future_forcast)):\n",
    "    future_forcast_dates.append((start_date + datetime.timedelta(days=i)).strftime('%m/%d/%Y'))\n",
    "adjusted_dates = future_forcast_dates[:-30]"
   ]
  },
  {
   "cell_type": "code",
   "execution_count": 14,
   "metadata": {
    "ExecuteTime": {
     "end_time": "2020-08-01T12:15:34.397088Z",
     "start_time": "2020-08-01T12:15:32.037849Z"
    },
    "scrolled": false
   },
   "outputs": [
    {
     "data": {
      "image/png": "[encoded data removed]",
      "text/plain": [
       "<Figure size 432x288 with 1 Axes>"
      ]
     },
     "metadata": {
      "needs_background": "light"
     },
     "output_type": "display_data"
    }
   ],
   "source": [
    "#Coronavirus Active/Confirmed/Recoveries/Deaths Cases Over Time\n",
    "plt.plot(adjusted_dates, world_cases, color='white')\n",
    "plt.plot(adjusted_dates, active_cases, color='orange')\n",
    "plt.plot(adjusted_dates, total_recovered, color='green')\n",
    "plt.plot(adjusted_dates, total_deaths, color='red')\n",
    "plt.title('Confirmed, Active, Recovery & Death Cases of Coronavirus Over Time', size=8)\n",
    "plt.legend(['Number of Confirmed Cases= '+ str(confirmed_sum), 'Number of Active Cases= '+ str(active_cases_sum), 'Number of Recovery Cases='+ str(recovered_sum), 'Number of Death Cases='+ str(death_sum)], loc='upper left', fontsize=8)\n",
    "plt.xlabel('Time in Days', size=8)\n",
    "plt.ylabel('Number of Cases', size=8)\n",
    "plt.xticks(rotation=50, size=8)\n",
    "plt.show()"
   ]
  },
  {
   "cell_type": "code",
   "execution_count": 15,
   "metadata": {
    "ExecuteTime": {
     "end_time": "2020-08-01T12:15:40.358172Z",
     "start_time": "2020-08-01T12:15:38.312827Z"
    },
    "scrolled": true
   },
   "outputs": [
    {
     "data": {
      "image/png": "[encoded data removed]",
      "text/plain": [
       "<Figure size 432x288 with 1 Axes>"
      ]
     },
     "metadata": {
      "needs_background": "light"
     },
     "output_type": "display_data"
    }
   ],
   "source": [
    "###Coronavirus Recovery & Mortality Rate Over Time\n",
    "mean_recovery_rate = np.mean(recovery_rate)\n",
    "mean_mortality_rate = np.mean(mortality_rate)\n",
    "plt.plot(adjusted_dates, recovery_rate, color='green')\n",
    "plt.axhline(y = mean_recovery_rate,linestyle='--', color='black')\n",
    "plt.plot(adjusted_dates, mortality_rate, color='red')\n",
    "plt.axhline(y = mean_mortality_rate,linestyle='--', color='black')\n",
    "plt.title('Recovery Rate & Fatality Rate of Coronavirus Over Time', size=8)\n",
    "plt.legend(['Recovery Rate', 'Recovery Rate Average %='+str(mean_recovery_rate*100),'Fatality Rate', 'Fatality Rate Average %='+str(mean_mortality_rate*100)], loc='upper right', fontsize=8)\n",
    "plt.xlabel('Time', size=8)\n",
    "plt.ylabel('Mortality and recovered Rate', size=8)\n",
    "plt.xticks(rotation=50, size=8)\n",
    "plt.show()"
   ]
  },
  {
   "cell_type": "code",
   "execution_count": 16,
   "metadata": {},
   "outputs": [],
   "source": [
    "# Train parameters to predict labels, use 10% for Test set\n",
    "X_train_confirmed, X_test_confirmed, y_train_confirmed, y_test_confirmed = train_test_split(days_since_1_22, world_cases, test_size=0.1, shuffle=False) \n",
    "X_train_deaths, X_test_deaths, y_train_deaths, y_test_deaths = train_test_split(days_since_1_22, total_deaths, test_size=0.1, shuffle=False)"
   ]
  },
  {
   "cell_type": "code",
   "execution_count": 17,
   "metadata": {},
   "outputs": [],
   "source": [
    "kernel = ['poly','rbf']\n",
    "c = [0.01, 0.1, 1, 10]\n",
    "gamma = [0.01, 0.1, 1]\n",
    "epsilon = [0.01, 0.1, 1]\n",
    "shrinking = [True, False]\n",
    "svm_grid = {'kernel': kernel, 'C': c, 'gamma' : gamma, 'epsilon': epsilon, 'shrinking' : shrinking}\n",
    "\n",
    "svm = SVR()"
   ]
  },
  {
   "cell_type": "code",
   "execution_count": null,
   "metadata": {},
   "outputs": [
    {
     "name": "stdout",
     "output_type": "stream",
     "text": [
      "Fitting 3 folds for each of 5 candidates, totalling 15 fits\n"
     ]
    },
    {
     "name": "stderr",
     "output_type": "stream",
     "text": [
      "[Parallel(n_jobs=-1)]: Using backend LokyBackend with 8 concurrent workers.\n",
      "[Parallel(n_jobs=-1)]: Done  15 out of  15 | elapsed:    2.1s finished\n",
      "[Parallel(n_jobs=-1)]: Using backend LokyBackend with 8 concurrent workers.\n"
     ]
    },
    {
     "name": "stdout",
     "output_type": "stream",
     "text": [
      "Fitting 3 folds for each of 5 candidates, totalling 15 fits\n"
     ]
    }
   ],
   "source": [
    "svm_search = RandomizedSearchCV(svm,svm_grid,scoring='neg_mean_squared_error',cv=3,return_train_score=True,n_jobs=-1,n_iter=5,verbose=1)\n",
    "svm_search.fit(X_train_confirmed, y_train_confirmed.ravel())\n",
    "svm_search.best_params_\n",
    "svm_confirmed = svm_search.best_estimator_\n",
    "svm_pred_confirmed = svm_confirmed.predict(future_forcast)\n",
    "\n",
    "svm_search = RandomizedSearchCV(svm,svm_grid,scoring='neg_mean_squared_error',cv=3,return_train_score=True,n_jobs=-1,n_iter=5,verbose=1)\n",
    "svm_search.fit(X_train_deaths, y_train_deaths.ravel())\n",
    "svm_search.best_params_\n",
    "svm_deaths = svm_search.best_estimator_\n",
    "svm_pred_deaths = svm_deaths.predict(future_forcast)"
   ]
  },
  {
   "cell_type": "code",
   "execution_count": null,
   "metadata": {
    "scrolled": false
   },
   "outputs": [],
   "source": [
    "plt.figure(figsize=(20, 12))\n",
    "\n",
    "plt.plot(adjusted_dates, world_cases, color='black')\n",
    "plt.plot(future_forcast_dates, svm_pred_confirmed, linestyle='dotted', color='black')\n",
    "\n",
    "plt.plot(adjusted_dates, total_deaths, color='red')\n",
    "plt.plot(future_forcast_dates, svm_pred_deaths, linestyle='dotted', color='red')\n",
    "\n",
    "plt.title('Predictions of Confirmed, Recovery & Death Cases of Coronavirus', size=30)\n",
    "plt.legend(['Number of Confirmed Cases', 'Confirmed Cases SVM Prediction', 'Number of Death Cases', 'Death Cases SVM Prediction'], loc='upper left', fontsize=15)\n",
    "plt.xlabel('Time in Days', size=30)\n",
    "plt.ylabel('Number of Cases', size=30)\n",
    "plt.xticks(rotation=50, size=12)\n",
    "plt.show()"
   ]
  }
 ],
 "metadata": {
  "hide_input": false,
  "kernelspec": {
   "display_name": "Python 3",
   "language": "python",
   "name": "python3"
  },
  "language_info": {
   "codemirror_mode": {
    "name": "ipython",
    "version": 3
   },
   "file_extension": ".py",
   "mimetype": "text/x-python",
   "name": "python",
   "nbconvert_exporter": "python",
   "pygments_lexer": "ipython3",
   "version": "3.7.4"
  },
  "nbTranslate": {
   "displayLangs": [
    "*"
   ],
   "hotkey": "alt-t",
   "langInMainMenu": true,
   "sourceLang": "en",
   "targetLang": "fr",
   "useGoogleTranslate": true
  },
  "toc": {
   "base_numbering": 1,
   "nav_menu": {},
   "number_sections": true,
   "sideBar": true,
   "skip_h1_title": false,
   "title_cell": "Table of Contents",
   "title_sidebar": "Contents",
   "toc_cell": false,
   "toc_position": {},
   "toc_section_display": true,
   "toc_window_display": false
  },
  "varInspector": {
   "cols": {
    "lenName": 16,
    "lenType": 16,
    "lenVar": 40
   },
   "kernels_config": {
    "python": {
     "delete_cmd_postfix": "",
     "delete_cmd_prefix": "del ",
     "library": "var_list.py",
     "varRefreshCmd": "print(var_dic_list())"
    },
    "r": {
     "delete_cmd_postfix": ") ",
     "delete_cmd_prefix": "rm(",
     "library": "var_list.r",
     "varRefreshCmd": "cat(var_dic_list()) "
    }
   },
   "types_to_exclude": [
    "module",
    "function",
    "builtin_function_or_method",
    "instance",
    "_Feature"
   ],
   "window_display": false
  }
 },
 "nbformat": 4,
 "nbformat_minor": 4
}
