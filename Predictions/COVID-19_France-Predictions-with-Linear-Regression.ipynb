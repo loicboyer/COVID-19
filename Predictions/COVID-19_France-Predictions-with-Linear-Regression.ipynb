{
 "cells": [
  {
   "cell_type": "markdown",
   "metadata": {},
   "source": [
    "# Coronavirus France Cases Predictions "
   ]
  },
  {
   "cell_type": "code",
   "execution_count": 2,
   "metadata": {
    "ExecuteTime": {
     "end_time": "2021-01-14T18:20:56.260058Z",
     "start_time": "2021-01-14T18:20:56.228810Z"
    }
   },
   "outputs": [
    {
     "name": "stdout",
     "output_type": "stream",
     "text": [
      "Libraries imported.\n"
     ]
    }
   ],
   "source": [
    "### import libraries\n",
    "import modin.pandas as pd #Dataframe manipulation library\n",
    "import os\n",
    "import numpy as np #Library to handle data in a vectorized manner\n",
    "import matplotlib.pyplot as plt #Matplotlib and associated plotting modules\n",
    "import matplotlib.colors as mcolors\n",
    "import matplotlib as mpl\n",
    "from matplotlib import style\n",
    "import math #Math functions\n",
    "import requests #library to handle requests\n",
    "import random\n",
    "import time\n",
    "import datetime\n",
    "import warnings\n",
    "print('Libraries imported.')"
   ]
  },
  {
   "cell_type": "code",
   "execution_count": 3,
   "metadata": {
    "ExecuteTime": {
     "end_time": "2021-01-14T18:20:56.661117Z",
     "start_time": "2021-01-14T18:20:56.260058Z"
    }
   },
   "outputs": [
    {
     "name": "stderr",
     "output_type": "stream",
     "text": [
      "UserWarning: Parameters provided defaulting to pandas implementation.\n",
      "To request implementation, send an email to feature_requests@modin.org.\n"
     ]
    }
   ],
   "source": [
    "###Import the data from CSSE at Johns Hopkins University (https://systems.jhu.edu/)\n",
    "confirmed_df = pd.read_csv('https://raw.githubusercontent.com/CSSEGISandData/COVID-19/master/csse_covid_19_data/csse_covid_19_time_series/time_series_covid19_confirmed_global.csv')"
   ]
  },
  {
   "cell_type": "code",
   "execution_count": 4,
   "metadata": {
    "ExecuteTime": {
     "end_time": "2021-01-14T18:20:56.676741Z",
     "start_time": "2021-01-14T18:20:56.661117Z"
    }
   },
   "outputs": [],
   "source": [
    "confirmed_df.drop(['1/22/20', '1/23/20'], axis=1, inplace=True)"
   ]
  },
  {
   "cell_type": "code",
   "execution_count": 5,
   "metadata": {
    "ExecuteTime": {
     "end_time": "2021-01-14T18:20:56.692366Z",
     "start_time": "2021-01-14T18:20:56.676741Z"
    }
   },
   "outputs": [],
   "source": [
    "cols = confirmed_df.keys()"
   ]
  },
  {
   "cell_type": "code",
   "execution_count": 6,
   "metadata": {
    "ExecuteTime": {
     "end_time": "2021-01-14T18:20:56.714503Z",
     "start_time": "2021-01-14T18:20:56.692366Z"
    }
   },
   "outputs": [],
   "source": [
    "###Get all the dates for the outbreak\n",
    "confirmed = confirmed_df.loc[:, cols[4]:cols[-1]]"
   ]
  },
  {
   "cell_type": "code",
   "execution_count": 7,
   "metadata": {
    "ExecuteTime": {
     "end_time": "2021-01-14T18:20:56.814762Z",
     "start_time": "2021-01-14T18:20:56.714503Z"
    }
   },
   "outputs": [],
   "source": [
    "confirmed_df = confirmed_df[confirmed_df['Country/Region']=='France']"
   ]
  },
  {
   "cell_type": "code",
   "execution_count": 8,
   "metadata": {
    "ExecuteTime": {
     "end_time": "2021-01-14T18:21:13.256136Z",
     "start_time": "2021-01-14T18:20:56.814762Z"
    }
   },
   "outputs": [],
   "source": [
    "dates = confirmed.keys()\n",
    "world_cases = []\n",
    "for i in dates:\n",
    "    confirmed_sum = confirmed[i].sum()\n",
    "    world_cases.append(confirmed_sum)"
   ]
  },
  {
   "cell_type": "code",
   "execution_count": 9,
   "metadata": {
    "ExecuteTime": {
     "end_time": "2021-01-14T18:21:13.271762Z",
     "start_time": "2021-01-14T18:21:13.256136Z"
    }
   },
   "outputs": [],
   "source": [
    "###Convert integer into datetime for better visualization\n",
    "start = '1/24/2020'\n",
    "start_date = datetime.datetime.strptime(start, '%m/%d/%Y')"
   ]
  },
  {
   "cell_type": "code",
   "execution_count": 10,
   "metadata": {
    "ExecuteTime": {
     "end_time": "2021-01-14T18:21:13.287387Z",
     "start_time": "2021-01-14T18:21:13.271762Z"
    }
   },
   "outputs": [],
   "source": [
    "days_since_1_22 = np.array([i for i in range(len(dates))]).reshape(-1, 1)\n",
    "world_cases = np.array(world_cases).reshape(-1, 1)"
   ]
  },
  {
   "cell_type": "code",
   "execution_count": 11,
   "metadata": {
    "ExecuteTime": {
     "end_time": "2021-01-14T18:21:13.303016Z",
     "start_time": "2021-01-14T18:21:13.287387Z"
    }
   },
   "outputs": [],
   "source": [
    "###Future forecast\n",
    "days_in_future = 30\n",
    "future_forcast = np.array([i for i in range(len(dates)+days_in_future)]).reshape(-1, 1)\n",
    "future_forcast_dates = []\n",
    "for i in range(len(future_forcast)):\n",
    "    future_forcast_dates.append((start_date + datetime.timedelta(days=i)).strftime('%m/%d/%Y'))\n",
    "adjusted_dates = future_forcast_dates[:-30]"
   ]
  },
  {
   "cell_type": "code",
   "execution_count": 12,
   "metadata": {
    "ExecuteTime": {
     "end_time": "2021-01-14T18:21:14.790528Z",
     "start_time": "2021-01-14T18:21:13.303016Z"
    }
   },
   "outputs": [
    {
     "name": "stdout",
     "output_type": "stream",
     "text": [
      "Modules are imported.\n"
     ]
    }
   ],
   "source": [
    "from sklearn.model_selection import RandomizedSearchCV, train_test_split\n",
    "from sklearn.svm import SVR\n",
    "from sklearn.metrics import mean_squared_error, mean_absolute_error\n",
    "warnings.filterwarnings(\"ignore\")\n",
    "print('Modules are imported.')"
   ]
  },
  {
   "cell_type": "code",
   "execution_count": 13,
   "metadata": {
    "ExecuteTime": {
     "end_time": "2021-01-14T18:21:14.806155Z",
     "start_time": "2021-01-14T18:21:14.790528Z"
    }
   },
   "outputs": [],
   "source": [
    "# Train parameters to predict labels, use 10% for Test set\n",
    "X_train_confirmed, X_test_confirmed, y_train_confirmed, y_test_confirmed = train_test_split(days_since_1_22, world_cases, test_size=0.1, shuffle=False) "
   ]
  },
  {
   "cell_type": "code",
   "execution_count": 14,
   "metadata": {
    "ExecuteTime": {
     "end_time": "2021-01-14T18:21:14.821776Z",
     "start_time": "2021-01-14T18:21:14.806155Z"
    }
   },
   "outputs": [],
   "source": [
    "kernel = ['poly']\n",
    "c = [0.01, 0.1, 1, 10]\n",
    "gamma = [0.01, 0.1, 1]\n",
    "epsilon = [0.01, 0.1, 1]\n",
    "shrinking = [True, False]\n",
    "svm_grid = {'kernel': kernel, 'C': c, 'gamma' : gamma, 'epsilon': epsilon, 'shrinking' : shrinking}\n",
    "svm = SVR()"
   ]
  },
  {
   "cell_type": "code",
   "execution_count": null,
   "metadata": {
    "ExecuteTime": {
     "start_time": "2021-01-14T18:20:56.440Z"
    }
   },
   "outputs": [
    {
     "name": "stdout",
     "output_type": "stream",
     "text": [
      "Fitting 3 folds for each of 5 candidates, totalling 15 fits\n"
     ]
    },
    {
     "name": "stderr",
     "output_type": "stream",
     "text": [
      "[Parallel(n_jobs=-1)]: Using backend LokyBackend with 8 concurrent workers.\n"
     ]
    }
   ],
   "source": [
    "svm_search = RandomizedSearchCV(svm,svm_grid,scoring='neg_mean_squared_error',cv=3,return_train_score=True,n_jobs=-1,n_iter=5,verbose=1)\n",
    "svm_search.fit(X_train_confirmed, y_train_confirmed.ravel())\n",
    "svm_search.best_params_\n",
    "svm_confirmed = svm_search.best_estimator_\n",
    "svm_pred_confirmed = svm_confirmed.predict(future_forcast)"
   ]
  },
  {
   "cell_type": "code",
   "execution_count": null,
   "metadata": {
    "ExecuteTime": {
     "start_time": "2021-01-14T18:20:56.454Z"
    },
    "scrolled": false
   },
   "outputs": [],
   "source": [
    "plt.figure(figsize=(20, 12))\n",
    "plt.plot(adjusted_dates, world_cases, color='black')\n",
    "plt.plot(future_forcast_dates, svm_pred_confirmed, linestyle='dotted', color='black')\n",
    "plt.title(' Coronavirus Cases Predictions ', size=30)\n",
    "plt.legend(['Number of Confirmed Cases', 'Confirmed Cases SVM Prediction'], loc='upper left', fontsize=15)\n",
    "plt.xlabel('Time in Days', size=30)\n",
    "plt.ylabel('Number of Cases', size=30)\n",
    "plt.xticks(rotation=50, size=12)\n",
    "plt.show()"
   ]
  },
  {
   "cell_type": "code",
   "execution_count": null,
   "metadata": {},
   "outputs": [],
   "source": []
  }
 ],
 "metadata": {
  "hide_input": false,
  "kernelspec": {
   "display_name": "Python 3",
   "language": "python",
   "name": "python3"
  },
  "language_info": {
   "codemirror_mode": {
    "name": "ipython",
    "version": 3
   },
   "file_extension": ".py",
   "mimetype": "text/x-python",
   "name": "python",
   "nbconvert_exporter": "python",
   "pygments_lexer": "ipython3",
   "version": "3.7.4"
  },
  "nbTranslate": {
   "displayLangs": [
    "*"
   ],
   "hotkey": "alt-t",
   "langInMainMenu": true,
   "sourceLang": "en",
   "targetLang": "fr",
   "useGoogleTranslate": true
  },
  "varInspector": {
   "cols": {
    "lenName": 16,
    "lenType": 16,
    "lenVar": 40
   },
   "kernels_config": {
    "python": {
     "delete_cmd_postfix": "",
     "delete_cmd_prefix": "del ",
     "library": "var_list.py",
     "varRefreshCmd": "print(var_dic_list())"
    },
    "r": {
     "delete_cmd_postfix": ") ",
     "delete_cmd_prefix": "rm(",
     "library": "var_list.r",
     "varRefreshCmd": "cat(var_dic_list()) "
    }
   },
   "types_to_exclude": [
    "module",
    "function",
    "builtin_function_or_method",
    "instance",
    "_Feature"
   ],
   "window_display": false
  }
 },
 "nbformat": 4,
 "nbformat_minor": 4
}
